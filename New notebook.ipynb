{
 "cells":[
  {
   "cell_type":"code",
   "source":[
    "import pandas as pd\n",
    "import matplotlib.pyplot as plt"
   ],
   "execution_count":1,
   "outputs":[
    
   ],
   "metadata":{
    "datalore":{
     "type":"CODE",
     "hide_input_from_viewers":false,
     "hide_output_from_viewers":false
    }
   }
  },
  {
   "cell_type":"code",
   "source":[
    "dataf = pd.read_csv('sales_data.csv')"
   ],
   "execution_count":3,
   "outputs":[
    
   ],
   "metadata":{
    "datalore":{
     "type":"CODE",
     "hide_input_from_viewers":false,
     "hide_output_from_viewers":false
    }
   }
  },
  {
   "cell_type":"code",
   "source":[
    "dataf"
   ],
   "execution_count":4,
   "outputs":[
    {
     "data":{
      "text\/html":[
       "<div>\n",
       "<style scoped>\n",
       "    .dataframe tbody tr th:only-of-type {\n",
       "        vertical-align: middle;\n",
       "    }\n",
       "\n",
       "    .dataframe tbody tr th {\n",
       "        vertical-align: top;\n",
       "    }\n",
       "\n",
       "    .dataframe thead th {\n",
       "        text-align: right;\n",
       "    }\n",
       "<\/style>\n",
       "<table border=\"1\" class=\"dataframe\">\n",
       "  <thead>\n",
       "    <tr style=\"text-align: right;\">\n",
       "      <th><\/th>\n",
       "      <th>Date<\/th>\n",
       "      <th>Day<\/th>\n",
       "      <th>Month<\/th>\n",
       "      <th>Year<\/th>\n",
       "      <th>Customer_Age<\/th>\n",
       "      <th>Age_Group<\/th>\n",
       "      <th>Customer_Gender<\/th>\n",
       "      <th>Country<\/th>\n",
       "      <th>State<\/th>\n",
       "      <th>Product_Category<\/th>\n",
       "      <th>Sub_Category<\/th>\n",
       "      <th>Product<\/th>\n",
       "      <th>Order_Quantity<\/th>\n",
       "      <th>Unit_Cost<\/th>\n",
       "      <th>Unit_Price<\/th>\n",
       "      <th>Profit<\/th>\n",
       "      <th>Cost<\/th>\n",
       "      <th>Revenue<\/th>\n",
       "    <\/tr>\n",
       "  <\/thead>\n",
       "  <tbody>\n",
       "    <tr>\n",
       "      <th>0<\/th>\n",
       "      <td>2013-11-26<\/td>\n",
       "      <td>26<\/td>\n",
       "      <td>November<\/td>\n",
       "      <td>2013<\/td>\n",
       "      <td>19<\/td>\n",
       "      <td>Youth (&lt;25)<\/td>\n",
       "      <td>M<\/td>\n",
       "      <td>Canada<\/td>\n",
       "      <td>British Columbia<\/td>\n",
       "      <td>Accessories<\/td>\n",
       "      <td>Bike Racks<\/td>\n",
       "      <td>Hitch Rack - 4-Bike<\/td>\n",
       "      <td>8<\/td>\n",
       "      <td>45<\/td>\n",
       "      <td>120<\/td>\n",
       "      <td>590<\/td>\n",
       "      <td>360<\/td>\n",
       "      <td>950<\/td>\n",
       "    <\/tr>\n",
       "    <tr>\n",
       "      <th>1<\/th>\n",
       "      <td>2015-11-26<\/td>\n",
       "      <td>26<\/td>\n",
       "      <td>November<\/td>\n",
       "      <td>2015<\/td>\n",
       "      <td>19<\/td>\n",
       "      <td>Youth (&lt;25)<\/td>\n",
       "      <td>M<\/td>\n",
       "      <td>Canada<\/td>\n",
       "      <td>British Columbia<\/td>\n",
       "      <td>Accessories<\/td>\n",
       "      <td>Bike Racks<\/td>\n",
       "      <td>Hitch Rack - 4-Bike<\/td>\n",
       "      <td>8<\/td>\n",
       "      <td>45<\/td>\n",
       "      <td>120<\/td>\n",
       "      <td>590<\/td>\n",
       "      <td>360<\/td>\n",
       "      <td>950<\/td>\n",
       "    <\/tr>\n",
       "    <tr>\n",
       "      <th>2<\/th>\n",
       "      <td>2014-03-23<\/td>\n",
       "      <td>23<\/td>\n",
       "      <td>March<\/td>\n",
       "      <td>2014<\/td>\n",
       "      <td>49<\/td>\n",
       "      <td>Adults (35-64)<\/td>\n",
       "      <td>M<\/td>\n",
       "      <td>Australia<\/td>\n",
       "      <td>New South Wales<\/td>\n",
       "      <td>Accessories<\/td>\n",
       "      <td>Bike Racks<\/td>\n",
       "      <td>Hitch Rack - 4-Bike<\/td>\n",
       "      <td>23<\/td>\n",
       "      <td>45<\/td>\n",
       "      <td>120<\/td>\n",
       "      <td>1366<\/td>\n",
       "      <td>1035<\/td>\n",
       "      <td>2401<\/td>\n",
       "    <\/tr>\n",
       "    <tr>\n",
       "      <th>3<\/th>\n",
       "      <td>2016-03-23<\/td>\n",
       "      <td>23<\/td>\n",
       "      <td>March<\/td>\n",
       "      <td>2016<\/td>\n",
       "      <td>49<\/td>\n",
       "      <td>Adults (35-64)<\/td>\n",
       "      <td>M<\/td>\n",
       "      <td>Australia<\/td>\n",
       "      <td>New South Wales<\/td>\n",
       "      <td>Accessories<\/td>\n",
       "      <td>Bike Racks<\/td>\n",
       "      <td>Hitch Rack - 4-Bike<\/td>\n",
       "      <td>20<\/td>\n",
       "      <td>45<\/td>\n",
       "      <td>120<\/td>\n",
       "      <td>1188<\/td>\n",
       "      <td>900<\/td>\n",
       "      <td>2088<\/td>\n",
       "    <\/tr>\n",
       "    <tr>\n",
       "      <th>4<\/th>\n",
       "      <td>2014-05-15<\/td>\n",
       "      <td>15<\/td>\n",
       "      <td>May<\/td>\n",
       "      <td>2014<\/td>\n",
       "      <td>47<\/td>\n",
       "      <td>Adults (35-64)<\/td>\n",
       "      <td>F<\/td>\n",
       "      <td>Australia<\/td>\n",
       "      <td>New South Wales<\/td>\n",
       "      <td>Accessories<\/td>\n",
       "      <td>Bike Racks<\/td>\n",
       "      <td>Hitch Rack - 4-Bike<\/td>\n",
       "      <td>4<\/td>\n",
       "      <td>45<\/td>\n",
       "      <td>120<\/td>\n",
       "      <td>238<\/td>\n",
       "      <td>180<\/td>\n",
       "      <td>418<\/td>\n",
       "    <\/tr>\n",
       "    <tr>\n",
       "      <th>...<\/th>\n",
       "      <td>...<\/td>\n",
       "      <td>...<\/td>\n",
       "      <td>...<\/td>\n",
       "      <td>...<\/td>\n",
       "      <td>...<\/td>\n",
       "      <td>...<\/td>\n",
       "      <td>...<\/td>\n",
       "      <td>...<\/td>\n",
       "      <td>...<\/td>\n",
       "      <td>...<\/td>\n",
       "      <td>...<\/td>\n",
       "      <td>...<\/td>\n",
       "      <td>...<\/td>\n",
       "      <td>...<\/td>\n",
       "      <td>...<\/td>\n",
       "      <td>...<\/td>\n",
       "      <td>...<\/td>\n",
       "      <td>...<\/td>\n",
       "    <\/tr>\n",
       "    <tr>\n",
       "      <th>113031<\/th>\n",
       "      <td>2016-04-12<\/td>\n",
       "      <td>12<\/td>\n",
       "      <td>April<\/td>\n",
       "      <td>2016<\/td>\n",
       "      <td>41<\/td>\n",
       "      <td>Adults (35-64)<\/td>\n",
       "      <td>M<\/td>\n",
       "      <td>United Kingdom<\/td>\n",
       "      <td>England<\/td>\n",
       "      <td>Clothing<\/td>\n",
       "      <td>Vests<\/td>\n",
       "      <td>Classic Vest, S<\/td>\n",
       "      <td>3<\/td>\n",
       "      <td>24<\/td>\n",
       "      <td>64<\/td>\n",
       "      <td>112<\/td>\n",
       "      <td>72<\/td>\n",
       "      <td>184<\/td>\n",
       "    <\/tr>\n",
       "    <tr>\n",
       "      <th>113032<\/th>\n",
       "      <td>2014-04-02<\/td>\n",
       "      <td>2<\/td>\n",
       "      <td>April<\/td>\n",
       "      <td>2014<\/td>\n",
       "      <td>18<\/td>\n",
       "      <td>Youth (&lt;25)<\/td>\n",
       "      <td>M<\/td>\n",
       "      <td>Australia<\/td>\n",
       "      <td>Queensland<\/td>\n",
       "      <td>Clothing<\/td>\n",
       "      <td>Vests<\/td>\n",
       "      <td>Classic Vest, M<\/td>\n",
       "      <td>22<\/td>\n",
       "      <td>24<\/td>\n",
       "      <td>64<\/td>\n",
       "      <td>655<\/td>\n",
       "      <td>528<\/td>\n",
       "      <td>1183<\/td>\n",
       "    <\/tr>\n",
       "    <tr>\n",
       "      <th>113033<\/th>\n",
       "      <td>2016-04-02<\/td>\n",
       "      <td>2<\/td>\n",
       "      <td>April<\/td>\n",
       "      <td>2016<\/td>\n",
       "      <td>18<\/td>\n",
       "      <td>Youth (&lt;25)<\/td>\n",
       "      <td>M<\/td>\n",
       "      <td>Australia<\/td>\n",
       "      <td>Queensland<\/td>\n",
       "      <td>Clothing<\/td>\n",
       "      <td>Vests<\/td>\n",
       "      <td>Classic Vest, M<\/td>\n",
       "      <td>22<\/td>\n",
       "      <td>24<\/td>\n",
       "      <td>64<\/td>\n",
       "      <td>655<\/td>\n",
       "      <td>528<\/td>\n",
       "      <td>1183<\/td>\n",
       "    <\/tr>\n",
       "    <tr>\n",
       "      <th>113034<\/th>\n",
       "      <td>2014-03-04<\/td>\n",
       "      <td>4<\/td>\n",
       "      <td>March<\/td>\n",
       "      <td>2014<\/td>\n",
       "      <td>37<\/td>\n",
       "      <td>Adults (35-64)<\/td>\n",
       "      <td>F<\/td>\n",
       "      <td>France<\/td>\n",
       "      <td>Seine (Paris)<\/td>\n",
       "      <td>Clothing<\/td>\n",
       "      <td>Vests<\/td>\n",
       "      <td>Classic Vest, L<\/td>\n",
       "      <td>24<\/td>\n",
       "      <td>24<\/td>\n",
       "      <td>64<\/td>\n",
       "      <td>684<\/td>\n",
       "      <td>576<\/td>\n",
       "      <td>1260<\/td>\n",
       "    <\/tr>\n",
       "    <tr>\n",
       "      <th>113035<\/th>\n",
       "      <td>2016-03-04<\/td>\n",
       "      <td>4<\/td>\n",
       "      <td>March<\/td>\n",
       "      <td>2016<\/td>\n",
       "      <td>37<\/td>\n",
       "      <td>Adults (35-64)<\/td>\n",
       "      <td>F<\/td>\n",
       "      <td>France<\/td>\n",
       "      <td>Seine (Paris)<\/td>\n",
       "      <td>Clothing<\/td>\n",
       "      <td>Vests<\/td>\n",
       "      <td>Classic Vest, L<\/td>\n",
       "      <td>23<\/td>\n",
       "      <td>24<\/td>\n",
       "      <td>64<\/td>\n",
       "      <td>655<\/td>\n",
       "      <td>552<\/td>\n",
       "      <td>1207<\/td>\n",
       "    <\/tr>\n",
       "  <\/tbody>\n",
       "<\/table>\n",
       "<p>113036 rows × 18 columns<\/p>\n",
       "<\/div>"
      ]
     },
     "metadata":{
      
     },
     "output_type":"display_data"
    }
   ],
   "metadata":{
    "datalore":{
     "type":"CODE",
     "hide_input_from_viewers":false,
     "hide_output_from_viewers":false
    }
   }
  },
  {
   "cell_type":"code",
   "source":[
    
   ],
   "execution_count":8,
   "outputs":[
    {
     "data":{
      "text\/plain":[
       "<AxesSubplot:>"
      ],
      "image\/png":"[encoded data removed]"
     },
     "metadata":{
      "image\/png":{
       
      }
     },
     "output_type":"display_data"
    }
   ],
   "metadata":{
    "datalore":{
     "type":"CODE",
     "hide_input_from_viewers":false,
     "hide_output_from_viewers":false
    }
   }
  },
  {
   "cell_type":"code",
   "source":[
    
   ],
   "execution_count":0,
   "outputs":[
    
   ],
   "metadata":{
    "datalore":{
     "type":"CODE",
     "hide_input_from_viewers":false,
     "hide_output_from_viewers":false
    }
   }
  }
 ],
 "metadata":{
  "datalore":{
   "version":1,
   "computation_mode":"JUPYTER",
   "package_manager":"pip",
   "base_environment":"default",
   "packages":[
    {
     "name":"PandasProject",
     "version":"master",
     "url":"https:\/\/github.com\/duvalleblanc\/PandasProject.git@master",
     "source":"GIT"
    }
   ]
  }
 },
 "nbformat":4,
 "nbformat_minor":4
}